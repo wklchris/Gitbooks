{
 "cells": [
  {
   "cell_type": "markdown",
   "metadata": {},
   "source": [
    "# Linear Regression\n",
    "\n",
    "*Author:* Github - @wklchris\n",
    "\n",
    "*Feb 2019*"
   ]
  },
  {
   "cell_type": "code",
   "execution_count": 1,
   "metadata": {},
   "outputs": [],
   "source": [
    "import numpy as np\n",
    "import pandas as pd\n",
    "import matplotlib.pyplot as plt\n",
    "from sklearn.model_selection import train_test_split"
   ]
  },
  {
   "cell_type": "markdown",
   "metadata": {},
   "source": [
    "## Introduction\n",
    "\n",
    "A general linear regression may follow these steps:\n",
    "\n",
    "1. Pre-part:\n",
    "    1. Choice of the response variable\n",
    "    2. Dealing with categorical variables\n",
    "2. Variables check\n",
    "    1. Skewness of the response variable; Box-cox. Transformation might be needed.\n",
    "    2. Pairwise scatterplot (correlation matrix) check\n",
    "3. Model fitting & selection\n",
    "    1. Initial model with all variables\n",
    "    2. Variables selection: via e.g. best subset methods, AIC, etc.\n",
    "    3. Interpretation\n",
    "4. Model Diagnostics\n",
    "    1. Linearity: square-root of studentized residuals vs fitted values plot\n",
    "    2. Equal-variance: residual vs fitted value plot\n",
    "    3. Normality: Q-Q plot\n",
    "    4. Outlier influences: Cooks' distance < 1\n",
    "\n",
    "The example below is a simplified one and many steps are skipped."
   ]
  },
  {
   "cell_type": "markdown",
   "metadata": {},
   "source": [
    "## Data generation (1-D regression)"
   ]
  },
  {
   "cell_type": "code",
   "execution_count": 37,
   "metadata": {},
   "outputs": [
    {
     "data": {
      "image/png": "[encoded data removed]",
      "text/plain": [
       "<Figure size 432x288 with 1 Axes>"
      ]
     },
     "metadata": {
      "needs_background": "light"
     },
     "output_type": "display_data"
    }
   ],
   "source": [
    "n = 100\n",
    "x = np.linspace(0, 4, n)\n",
    "\n",
    "np.random.seed(100)\n",
    "y = 2 * x + np.random.normal(1, 0.1, n) # Noise: mu=1, sigma=0.1\n",
    "x, y = x.reshape(n, -1), y.reshape(n, -1)\n",
    "\n",
    "plt.plot(x, y)\n",
    "plt.title(\"Toy data for regression\")\n",
    "plt.show()"
   ]
  },
  {
   "cell_type": "markdown",
   "metadata": {},
   "source": [
    "## Fitting"
   ]
  },
  {
   "cell_type": "code",
   "execution_count": 75,
   "metadata": {},
   "outputs": [],
   "source": [
    "from sklearn.linear_model import LinearRegression\n",
    "\n",
    "regr = LinearRegression().fit(x, y)\n",
    "y_fit = regr.predict(x)"
   ]
  },
  {
   "cell_type": "code",
   "execution_count": 64,
   "metadata": {},
   "outputs": [
    {
     "data": {
      "image/png": "[encoded data removed]",
      "text/plain": [
       "<Figure size 432x288 with 1 Axes>"
      ]
     },
     "metadata": {
      "needs_background": "light"
     },
     "output_type": "display_data"
    }
   ],
   "source": [
    "plt.scatter(x_train , y_train, s=5)\n",
    "plt.plot(x , y_fit, color='r', lw=0.5)\n",
    "plt.title(\"Fitting over test set: $\\hat{{y}}={:.4f}x + {:.4f}$\".format(\n",
    "           regr.coef_[0][0], regr.intercept_[0]))\n",
    "plt.show()"
   ]
  },
  {
   "cell_type": "markdown",
   "metadata": {},
   "source": [
    "## Metrics: SS and R-square\n",
    "\n",
    "Error sum of squares (SSE) is given by the SS of true values and fitted values:\n",
    "\n",
    "$$ SSE = \\sum_{i=1}^n (y_i - \\hat{y}_i)^2, \\quad MSE = \\frac{SSE}{n-2} $$\n",
    "\n",
    "The `mean_squared_error` function returns the MSE (with denominator $n$) of 2 inputs.\n",
    "\n",
    "**Note: the denominator of SSE in `scikit-learn` is $n$, while in the linear regression theory it should be $n-2$**."
   ]
  },
  {
   "cell_type": "code",
   "execution_count": 78,
   "metadata": {},
   "outputs": [
    {
     "name": "stdout",
     "output_type": "stream",
     "text": [
      "SSE = 0.935695\n"
     ]
    }
   ],
   "source": [
    "from sklearn.metrics import mean_squared_error\n",
    "\n",
    "sse = mean_squared_error(y, y_fit) * n  # Denominator n-2 in theory\n",
    "print(\"SSE = {:.6f}\".format(sse))"
   ]
  },
  {
   "cell_type": "code",
   "execution_count": 82,
   "metadata": {},
   "outputs": [
    {
     "data": {
      "text/plain": [
       "0.9356948460632205"
      ]
     },
     "execution_count": 82,
     "metadata": {},
     "output_type": "execute_result"
    }
   ],
   "source": [
    "np.sum(np.square(y - y_fit))"
   ]
  },
  {
   "cell_type": "code",
   "execution_count": 87,
   "metadata": {},
   "outputs": [
    {
     "data": {
      "text/plain": [
       "False"
      ]
     },
     "execution_count": 87,
     "metadata": {},
     "output_type": "execute_result"
    }
   ],
   "source": [
    "from math import isclose\n",
    "\n",
    "# The denominator in the function is $n$ but not $n-2$\n",
    "isclose(sse, mean_squared_error(y, y_fit) * (n-2))"
   ]
  },
  {
   "cell_type": "markdown",
   "metadata": {},
   "source": [
    "$R^2$, a.k.a coefficient of determinanion, is given by:\n",
    "\n",
    "$$ R^2 = \\frac{SSR}{SSTO} $$\n",
    "\n",
    "where the calculation of $SSR$ is described at 'SSR' section. \n",
    "\n",
    "From definition we have $R^2\\in [0,1]$. And the larger $R^2$ is, the higher degree of linear association there is between $x$ and $y$."
   ]
  },
  {
   "cell_type": "code",
   "execution_count": 66,
   "metadata": {},
   "outputs": [
    {
     "name": "stdout",
     "output_type": "stream",
     "text": [
      "R-square: 0.998273\n"
     ]
    }
   ],
   "source": [
    "from sklearn.metrics import r2_score\n",
    "\n",
    "r2 = r2_score(y, y_fit)\n",
    "print(\"R-square: {:.6f}\".format(r2))"
   ]
  },
  {
   "cell_type": "markdown",
   "metadata": {},
   "source": [
    "We also know regression sum of squares (SSR) and total sum of squares (SSTO):\n",
    "\n",
    "$$\n",
    "SSR = \\sum_{i=1}^n (\\hat{y}_i - \\bar{y})^2,\\quad\n",
    "SSTO = \\sum_{i=1}^n (y_i - \\bar{y})^2 = SSE + SSR\n",
    "$$\n",
    "\n",
    "So we can also check it by computation based on these formula (**Note: denominators for MSR and MSTO are $1$ and $n-1$,  respectively**):"
   ]
  },
  {
   "cell_type": "code",
   "execution_count": 88,
   "metadata": {},
   "outputs": [
    {
     "name": "stdout",
     "output_type": "stream",
     "text": [
      "R-square by formula: 0.998273\n"
     ]
    }
   ],
   "source": [
    "y_mean = np.full((n, 1), np.mean(y))\n",
    "ssr = mean_squared_error(y_mean, y_fit) * n  # Denominator 1 in theory\n",
    "ssto = mean_squared_error(y_mean, y) * n  # Denominator n-1 in theory\n",
    "print(\"R-square by formula: {:.6f}\".format(ssr / ssto))"
   ]
  }
 ],
 "metadata": {
  "kernelspec": {
   "display_name": "Python 3",
   "language": "python",
   "name": "python3"
  },
  "language_info": {
   "codemirror_mode": {
    "name": "ipython",
    "version": 3
   },
   "file_extension": ".py",
   "mimetype": "text/x-python",
   "name": "python",
   "nbconvert_exporter": "python",
   "pygments_lexer": "ipython3",
   "version": "3.7.2"
  }
 },
 "nbformat": 4,
 "nbformat_minor": 2
}
